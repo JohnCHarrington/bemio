{
 "metadata": {
  "name": "",
  "signature": "sha256:d0727092c47668d5c37012350cf0de75a45b33b2f60cf01cba80ac3d1433653d"
 },
 "nbformat": 3,
 "nbformat_minor": 0,
 "worksheets": [
  {
   "cells": [
    {
     "cell_type": "markdown",
     "metadata": {},
     "source": [
      "## NEMOH\n",
      "The following code describes the steps involved in using ``bemio`` to read, process, and save NEMOH coefficients. This code can be viewed in ``$BEMIO_SOURCE/tutorials/nemon/run.py``. An ipython notebook with the code is also provided in ``$BEMIO_SOURCE/tutorials/nemon/run.ipynb``."
     ]
    },
    {
     "cell_type": "markdown",
     "metadata": {},
     "source": [
      "### Enable inline plots in the iPython notebook"
     ]
    },
    {
     "cell_type": "code",
     "collapsed": false,
     "input": [
      "%matplotlib inline"
     ],
     "language": "python",
     "metadata": {},
     "outputs": [],
     "prompt_number": 1
    },
    {
     "cell_type": "markdown",
     "metadata": {},
     "source": [
      "### Load the nemoh module from bemio.io #\n",
      "This module provides functionality to read, dimensionalize, visualizes the data."
     ]
    },
    {
     "cell_type": "code",
     "collapsed": false,
     "input": [
      "from bemio.io import nemoh"
     ],
     "language": "python",
     "metadata": {},
     "outputs": [],
     "prompt_number": 2
    },
    {
     "cell_type": "markdown",
     "metadata": {},
     "source": [
      "### Load the bem data object from bemio.data_structures #\n",
      "This module provides the functionality to save the data in the SHDF"
     ]
    },
    {
     "cell_type": "code",
     "collapsed": false,
     "input": [
      "from bemio.data_structures import bem"
     ],
     "language": "python",
     "metadata": {},
     "outputs": [],
     "prompt_number": 3
    },
    {
     "cell_type": "markdown",
     "metadata": {},
     "source": [
      "### Read the Nemoh simulation data from the "
     ]
    },
    {
     "cell_type": "code",
     "collapsed": false,
     "input": [
      "nemoh_data = nemoh.NemohOutput(sim_dir='./data/two_body', cal_file='Nemoh.cal', results_dir='Results', mesh_dir='Mesh', out_name='./data/two_body.out')"
     ],
     "language": "python",
     "metadata": {},
     "outputs": [],
     "prompt_number": 4
    },
    {
     "cell_type": "markdown",
     "metadata": {},
     "source": [
      "### Read the hydrostatic and IH files\n",
      "These files must be read individually for each body as shown below"
     ]
    },
    {
     "cell_type": "code",
     "collapsed": false,
     "input": [
      "nemoh_data.read_hydrostatics(body_num=0,file='./data/two_body/Mesh/Hydrostatics_0.dat')\n",
      "nemoh_data.read_kh(body_num=0, file='./data/two_body/Mesh/KH_0.dat')\n",
      "nemoh_data.read_hydrostatics(body_num=1,file='./data/two_body/Mesh/Hydrostatics_1.dat')\n",
      "nemoh_data.read_kh(body_num=1, file='./data/two_body/Mesh/KH_1.dat')"
     ],
     "language": "python",
     "metadata": {},
     "outputs": [],
     "prompt_number": 5
    },
    {
     "cell_type": "markdown",
     "metadata": {},
     "source": [
      "### Calculate the IRF and state space coefficients\n",
      "t_end, n_t and n_w are set to small numbers so the calculations run quickly. It is recommended that numbers are changed to 100, 1001, and 1001, respectively, for best accuracy of the IRF and state space coefficients."
     ]
    },
    {
     "cell_type": "code",
     "collapsed": false,
     "input": [
      "for i in xrange(nemoh_data.data[0].num_bodies):\n",
      "\tnemoh_data.data[i].calc_irf(t_end=50, n_t=101, n_w=201)\n",
      "\tnemoh_data.data[i].calc_ss()"
     ],
     "language": "python",
     "metadata": {},
     "outputs": [
      {
       "output_type": "stream",
       "stream": "stderr",
       "text": [
        "\r",
        "Calculating the impulse response function for Cube.dat:  0%|                  |\r",
        "Calculating the impulse response function for Cube.dat:  1%|                  |\r",
        "Calculating the impulse response function for Cube.dat:  2%|                  |\r",
        "Calculating the impulse response function for Cube.dat:  3%|                  |\r",
        "Calculating the impulse response function for Cube.dat:  4%|                  |\r",
        "Calculating the impulse response function for Cube.dat:  5%|                  |\r",
        "Calculating the impulse response function for Cube.dat:  6%|#                 |\r",
        "Calculating the impulse response function for Cube.dat:  7%|#                 |\r",
        "Calculating the impulse response function for Cube.dat:  8%|#                 |\r",
        "Calculating the impulse response function for Cube.dat:  9%|#                 |\r",
        "Calculating the impulse response function for Cube.dat: 10%|#                 |\r",
        "Calculating the impulse response function for Cube.dat: 11%|#                 |"
       ]
      },
      {
       "output_type": "stream",
       "stream": "stderr",
       "text": [
        "\r",
        "Calculating the impulse response function for Cube.dat: 12%|##                |\r",
        "Calculating the impulse response function for Cube.dat: 13%|##                |\r",
        "Calculating the impulse response function for Cube.dat: 14%|##                |\r",
        "Calculating the impulse response function for Cube.dat: 15%|##                |\r",
        "Calculating the impulse response function for Cube.dat: 16%|##                |\r",
        "Calculating the impulse response function for Cube.dat: 17%|###               |\r",
        "Calculating the impulse response function for Cube.dat: 18%|###               |\r",
        "Calculating the impulse response function for Cube.dat: 19%|###               |\r",
        "Calculating the impulse response function for Cube.dat: 20%|###               |\r",
        "Calculating the impulse response function for Cube.dat: 21%|###               |"
       ]
      },
      {
       "output_type": "stream",
       "stream": "stderr",
       "text": [
        "\r",
        "Calculating the impulse response function for Cube.dat: 22%|###               |\r",
        "Calculating the impulse response function for Cube.dat: 23%|####              |\r",
        "Calculating the impulse response function for Cube.dat: 24%|####              |\r",
        "Calculating the impulse response function for Cube.dat: 25%|####              |\r",
        "Calculating the impulse response function for Cube.dat: 26%|####              |\r",
        "Calculating the impulse response function for Cube.dat: 27%|####              |\r",
        "Calculating the impulse response function for Cube.dat: 28%|#####             |\r",
        "Calculating the impulse response function for Cube.dat: 29%|#####             |\r",
        "Calculating the impulse response function for Cube.dat: 30%|#####             |\r",
        "Calculating the impulse response function for Cube.dat: 31%|#####             |\r",
        "Calculating the impulse response function for Cube.dat: 32%|#####             |"
       ]
      },
      {
       "output_type": "stream",
       "stream": "stderr",
       "text": [
        "\r",
        "Calculating the impulse response function for Cube.dat: 33%|#####             |\r",
        "Calculating the impulse response function for Cube.dat: 34%|######            |\r",
        "Calculating the impulse response function for Cube.dat: 35%|######            |\r",
        "Calculating the impulse response function for Cube.dat: 36%|######            |\r",
        "Calculating the impulse response function for Cube.dat: 37%|######            |\r",
        "Calculating the impulse response function for Cube.dat: 38%|######            |\r",
        "Calculating the impulse response function for Cube.dat: 39%|#######           |\r",
        "Calculating the impulse response function for Cube.dat: 40%|#######           |\r",
        "Calculating the impulse response function for Cube.dat: 41%|#######           |\r",
        "Calculating the impulse response function for Cube.dat: 42%|#######           |\r",
        "Calculating the impulse response function for Cube.dat: 43%|#######           |"
       ]
      },
      {
       "output_type": "stream",
       "stream": "stderr",
       "text": [
        "\r",
        "Calculating the impulse response function for Cube.dat: 44%|#######           |\r",
        "Calculating the impulse response function for Cube.dat: 45%|########          |\r",
        "Calculating the impulse response function for Cube.dat: 46%|########          |\r",
        "Calculating the impulse response function for Cube.dat: 47%|########          |\r",
        "Calculating the impulse response function for Cube.dat: 48%|########          |\r",
        "Calculating the impulse response function for Cube.dat: 49%|########          |\r",
        "Calculating the impulse response function for Cube.dat: 50%|#########         |\r",
        "Calculating the impulse response function for Cube.dat: 51%|#########         |\r",
        "Calculating the impulse response function for Cube.dat: 52%|#########         |\r",
        "Calculating the impulse response function for Cube.dat: 53%|#########         |"
       ]
      },
      {
       "output_type": "stream",
       "stream": "stderr",
       "text": [
        "\r",
        "Calculating the impulse response function for Cube.dat: 54%|#########         |\r",
        "Calculating the impulse response function for Cube.dat: 55%|#########         |\r",
        "Calculating the impulse response function for Cube.dat: 56%|##########        |\r",
        "Calculating the impulse response function for Cube.dat: 57%|##########        |\r",
        "Calculating the impulse response function for Cube.dat: 58%|##########        |\r",
        "Calculating the impulse response function for Cube.dat: 59%|##########        |\r",
        "Calculating the impulse response function for Cube.dat: 60%|##########        |\r",
        "Calculating the impulse response function for Cube.dat: 61%|###########       |\r",
        "Calculating the impulse response function for Cube.dat: 62%|###########       |\r",
        "Calculating the impulse response function for Cube.dat: 63%|###########       |\r",
        "Calculating the impulse response function for Cube.dat: 64%|###########       |\r",
        "Calculating the impulse response function for Cube.dat: 65%|###########       |"
       ]
      },
      {
       "output_type": "stream",
       "stream": "stderr",
       "text": [
        "\r",
        "Calculating the impulse response function for Cube.dat: 66%|###########       |\r",
        "Calculating the impulse response function for Cube.dat: 67%|############      |\r",
        "Calculating the impulse response function for Cube.dat: 68%|############      |\r",
        "Calculating the impulse response function for Cube.dat: 69%|############      |\r",
        "Calculating the impulse response function for Cube.dat: 70%|############      |\r",
        "Calculating the impulse response function for Cube.dat: 71%|############      |\r",
        "Calculating the impulse response function for Cube.dat: 72%|#############     |\r",
        "Calculating the impulse response function for Cube.dat: 73%|#############     |\r",
        "Calculating the impulse response function for Cube.dat: 74%|#############     |\r",
        "Calculating the impulse response function for Cube.dat: 75%|#############     |\r",
        "Calculating the impulse response function for Cube.dat: 76%|#############     |\r",
        "Calculating the impulse response function for Cube.dat: 77%|#############     |"
       ]
      },
      {
       "output_type": "stream",
       "stream": "stderr",
       "text": [
        "\r",
        "Calculating the impulse response function for Cube.dat: 78%|##############    |\r",
        "Calculating the impulse response function for Cube.dat: 79%|##############    |\r",
        "Calculating the impulse response function for Cube.dat: 80%|##############    |\r",
        "Calculating the impulse response function for Cube.dat: 81%|##############    |\r",
        "Calculating the impulse response function for Cube.dat: 82%|##############    |\r",
        "Calculating the impulse response function for Cube.dat: 83%|##############    |\r",
        "Calculating the impulse response function for Cube.dat: 84%|###############   |\r",
        "Calculating the impulse response function for Cube.dat: 85%|###############   |\r",
        "Calculating the impulse response function for Cube.dat: 86%|###############   |\r",
        "Calculating the impulse response function for Cube.dat: 87%|###############   |\r",
        "Calculating the impulse response function for Cube.dat: 88%|###############   |\r",
        "Calculating the impulse response function for Cube.dat: 89%|################  |"
       ]
      },
      {
       "output_type": "stream",
       "stream": "stderr",
       "text": [
        "\r",
        "Calculating the impulse response function for Cube.dat: 90%|################  |\r",
        "Calculating the impulse response function for Cube.dat: 91%|################  |\r",
        "Calculating the impulse response function for Cube.dat: 92%|################  |\r",
        "Calculating the impulse response function for Cube.dat: 93%|################  |\r",
        "Calculating the impulse response function for Cube.dat: 94%|################  |\r",
        "Calculating the impulse response function for Cube.dat: 95%|################# |\r",
        "Calculating the impulse response function for Cube.dat: 96%|################# |\r",
        "Calculating the impulse response function for Cube.dat: 97%|################# |\r",
        "Calculating the impulse response function for Cube.dat: 98%|################# |\r",
        "Calculating the impulse response function for Cube.dat: 99%|################# |\r",
        "Calculating the impulse response function for Cube.dat:100%|##################|"
       ]
      },
      {
       "output_type": "stream",
       "stream": "stderr",
       "text": [
        "\n",
        "\r",
        "Calculating state space coefficients for Cube.dat:  0%|                       |\r",
        "Calculating state space coefficients for Cube.dat:  1%|                       |\r",
        "Calculating state space coefficients for Cube.dat:  2%|                       |"
       ]
      },
      {
       "output_type": "stream",
       "stream": "stderr",
       "text": [
        "\r",
        "Calculating state space coefficients for Cube.dat:  4%|                       |\r",
        "Calculating state space coefficients for Cube.dat:  5%|#                      |"
       ]
      },
      {
       "output_type": "stream",
       "stream": "stderr",
       "text": [
        "\r",
        "Calculating state space coefficients for Cube.dat:  6%|#                      |\r",
        "Calculating state space coefficients for Cube.dat:  8%|#                      |"
       ]
      },
      {
       "output_type": "stream",
       "stream": "stderr",
       "text": [
        "\r",
        "Calculating state space coefficients for Cube.dat:  9%|##                     |\r",
        "Calculating state space coefficients for Cube.dat: 11%|##                     |"
       ]
      },
      {
       "output_type": "stream",
       "stream": "stderr",
       "text": [
        "\r",
        "Calculating state space coefficients for Cube.dat: 12%|##                     |\r",
        "Calculating state space coefficients for Cube.dat: 13%|###                    |"
       ]
      },
      {
       "output_type": "stream",
       "stream": "stderr",
       "text": [
        "\r",
        "Calculating state space coefficients for Cube.dat: 15%|###                    |\r",
        "Calculating state space coefficients for Cube.dat: 16%|###                    |"
       ]
      },
      {
       "output_type": "stream",
       "stream": "stderr",
       "text": [
        "\r",
        "Calculating state space coefficients for Cube.dat: 18%|####                   |\r",
        "Calculating state space coefficients for Cube.dat: 19%|####                   |\r",
        "Calculating state space coefficients for Cube.dat: 20%|####                   |"
       ]
      },
      {
       "output_type": "stream",
       "stream": "stderr",
       "text": [
        "\r",
        "Calculating state space coefficients for Cube.dat: 22%|#####                  |\r",
        "Calculating state space coefficients for Cube.dat: 23%|#####                  |"
       ]
      },
      {
       "output_type": "stream",
       "stream": "stderr",
       "text": [
        "\r",
        "Calculating state space coefficients for Cube.dat: 25%|#####                  |\r",
        "Calculating state space coefficients for Cube.dat: 26%|######                 |"
       ]
      },
      {
       "output_type": "stream",
       "stream": "stderr",
       "text": [
        "\r",
        "Calculating state space coefficients for Cube.dat: 27%|######                 |\r",
        "Calculating state space coefficients for Cube.dat: 29%|######                 |"
       ]
      },
      {
       "output_type": "stream",
       "stream": "stderr",
       "text": [
        "\r",
        "Calculating state space coefficients for Cube.dat: 30%|#######                |\r",
        "Calculating state space coefficients for Cube.dat: 31%|#######                |"
       ]
      },
      {
       "output_type": "stream",
       "stream": "stderr",
       "text": [
        "\r",
        "Calculating state space coefficients for Cube.dat: 33%|#######                |\r",
        "Calculating state space coefficients for Cube.dat: 34%|#######                |"
       ]
      },
      {
       "output_type": "stream",
       "stream": "stderr",
       "text": [
        "\r",
        "Calculating state space coefficients for Cube.dat: 36%|########               |\r",
        "Calculating state space coefficients for Cube.dat: 37%|########               |"
       ]
      },
      {
       "output_type": "stream",
       "stream": "stderr",
       "text": [
        "\r",
        "Calculating state space coefficients for Cube.dat: 38%|########               |\r",
        "Calculating state space coefficients for Cube.dat: 40%|#########              |"
       ]
      },
      {
       "output_type": "stream",
       "stream": "stderr",
       "text": [
        "\r",
        "Calculating state space coefficients for Cube.dat: 41%|#########              |\r",
        "Calculating state space coefficients for Cube.dat: 43%|#########              |"
       ]
      },
      {
       "output_type": "stream",
       "stream": "stderr",
       "text": [
        "\r",
        "Calculating state space coefficients for Cube.dat: 44%|##########             |\r",
        "Calculating state space coefficients for Cube.dat: 45%|##########             |"
       ]
      },
      {
       "output_type": "stream",
       "stream": "stderr",
       "text": [
        "\r",
        "Calculating state space coefficients for Cube.dat: 47%|##########             |\r",
        "Calculating state space coefficients for Cube.dat: 48%|###########            |"
       ]
      },
      {
       "output_type": "stream",
       "stream": "stderr",
       "text": [
        "\r",
        "Calculating state space coefficients for Cube.dat: 50%|###########            |\r",
        "Calculating state space coefficients for Cube.dat: 51%|###########            |"
       ]
      },
      {
       "output_type": "stream",
       "stream": "stderr",
       "text": [
        "\r",
        "Calculating state space coefficients for Cube.dat: 52%|############           |\r",
        "Calculating state space coefficients for Cube.dat: 54%|############           |"
       ]
      },
      {
       "output_type": "stream",
       "stream": "stderr",
       "text": [
        "\r",
        "Calculating state space coefficients for Cube.dat: 55%|############           |\r",
        "Calculating state space coefficients for Cube.dat: 56%|#############          |"
       ]
      },
      {
       "output_type": "stream",
       "stream": "stderr",
       "text": [
        "\r",
        "Calculating state space coefficients for Cube.dat: 58%|#############          |\r",
        "Calculating state space coefficients for Cube.dat: 59%|#############          |"
       ]
      },
      {
       "output_type": "stream",
       "stream": "stderr",
       "text": [
        "\r",
        "Calculating state space coefficients for Cube.dat: 61%|##############         |\r",
        "Calculating state space coefficients for Cube.dat: 62%|##############         |"
       ]
      },
      {
       "output_type": "stream",
       "stream": "stderr",
       "text": [
        "\r",
        "Calculating state space coefficients for Cube.dat: 63%|##############         |\r",
        "Calculating state space coefficients for Cube.dat: 65%|###############        |"
       ]
      },
      {
       "output_type": "stream",
       "stream": "stderr",
       "text": [
        "\r",
        "Calculating state space coefficients for Cube.dat: 66%|###############        |\r",
        "Calculating state space coefficients for Cube.dat: 68%|###############        |"
       ]
      },
      {
       "output_type": "stream",
       "stream": "stderr",
       "text": [
        "\r",
        "Calculating state space coefficients for Cube.dat: 69%|###############        |\r",
        "Calculating state space coefficients for Cube.dat: 70%|################       |"
       ]
      },
      {
       "output_type": "stream",
       "stream": "stderr",
       "text": [
        "\r",
        "Calculating state space coefficients for Cube.dat: 72%|################       |\r",
        "Calculating state space coefficients for Cube.dat: 73%|################       |"
       ]
      },
      {
       "output_type": "stream",
       "stream": "stderr",
       "text": [
        "\r",
        "Calculating state space coefficients for Cube.dat: 75%|#################      |\r",
        "Calculating state space coefficients for Cube.dat: 76%|#################      |"
       ]
      },
      {
       "output_type": "stream",
       "stream": "stderr",
       "text": [
        "\r",
        "Calculating state space coefficients for Cube.dat: 77%|#################      |\r",
        "Calculating state space coefficients for Cube.dat: 79%|##################     |"
       ]
      },
      {
       "output_type": "stream",
       "stream": "stderr",
       "text": [
        "\r",
        "Calculating state space coefficients for Cube.dat: 80%|##################     |\r",
        "Calculating state space coefficients for Cube.dat: 81%|##################     |"
       ]
      },
      {
       "output_type": "stream",
       "stream": "stderr",
       "text": [
        "\r",
        "Calculating state space coefficients for Cube.dat: 83%|###################    |\r",
        "Calculating state space coefficients for Cube.dat: 84%|###################    |"
       ]
      },
      {
       "output_type": "stream",
       "stream": "stderr",
       "text": [
        "\r",
        "Calculating state space coefficients for Cube.dat: 86%|###################    |\r",
        "Calculating state space coefficients for Cube.dat: 87%|####################   |"
       ]
      },
      {
       "output_type": "stream",
       "stream": "stderr",
       "text": [
        "\r",
        "Calculating state space coefficients for Cube.dat: 88%|####################   |\r",
        "Calculating state space coefficients for Cube.dat: 90%|####################   |"
       ]
      },
      {
       "output_type": "stream",
       "stream": "stderr",
       "text": [
        "\r",
        "Calculating state space coefficients for Cube.dat: 91%|#####################  |\r",
        "Calculating state space coefficients for Cube.dat: 93%|#####################  |"
       ]
      },
      {
       "output_type": "stream",
       "stream": "stderr",
       "text": [
        "\r",
        "Calculating state space coefficients for Cube.dat: 94%|#####################  |\r",
        "Calculating state space coefficients for Cube.dat: 95%|###################### |"
       ]
      },
      {
       "output_type": "stream",
       "stream": "stderr",
       "text": [
        "\r",
        "Calculating state space coefficients for Cube.dat: 97%|###################### |\r",
        "Calculating state space coefficients for Cube.dat: 98%|###################### |"
       ]
      },
      {
       "output_type": "stream",
       "stream": "stderr",
       "text": [
        "\r",
        "Calculating state space coefficients for Cube.dat:100%|#######################|\r",
        "Calculating state space coefficients for Cube.dat:100%|#######################|\n",
        "\r",
        "Calculating the impulse response function for Rotated_cube.dat:  0%|          |\r",
        "Calculating the impulse response function for Rotated_cube.dat:  1%|          |\r",
        "Calculating the impulse response function for Rotated_cube.dat:  2%|          |\r",
        "Calculating the impulse response function for Rotated_cube.dat:  3%|          |\r",
        "Calculating the impulse response function for Rotated_cube.dat:  4%|          |\r",
        "Calculating the impulse response function for Rotated_cube.dat:  5%|          |\r",
        "Calculating the impulse response function for Rotated_cube.dat:  6%|          |\r",
        "Calculating the impulse response function for Rotated_cube.dat:  7%|          |\r",
        "Calculating the impulse response function for Rotated_cube.dat:  8%|          |\r",
        "Calculating the impulse response function for Rotated_cube.dat:  9%|          |\r",
        "Calculating the impulse response function for Rotated_cube.dat: 10%|#         |"
       ]
      },
      {
       "output_type": "stream",
       "stream": "stderr",
       "text": [
        "\r",
        "Calculating the impulse response function for Rotated_cube.dat: 11%|#         |\r",
        "Calculating the impulse response function for Rotated_cube.dat: 12%|#         |\r",
        "Calculating the impulse response function for Rotated_cube.dat: 13%|#         |\r",
        "Calculating the impulse response function for Rotated_cube.dat: 14%|#         |\r",
        "Calculating the impulse response function for Rotated_cube.dat: 15%|#         |\r",
        "Calculating the impulse response function for Rotated_cube.dat: 16%|#         |\r",
        "Calculating the impulse response function for Rotated_cube.dat: 17%|#         |\r",
        "Calculating the impulse response function for Rotated_cube.dat: 18%|#         |\r",
        "Calculating the impulse response function for Rotated_cube.dat: 19%|#         |\r",
        "Calculating the impulse response function for Rotated_cube.dat: 20%|##        |"
       ]
      },
      {
       "output_type": "stream",
       "stream": "stderr",
       "text": [
        "\r",
        "Calculating the impulse response function for Rotated_cube.dat: 21%|##        |\r",
        "Calculating the impulse response function for Rotated_cube.dat: 22%|##        |\r",
        "Calculating the impulse response function for Rotated_cube.dat: 23%|##        |\r",
        "Calculating the impulse response function for Rotated_cube.dat: 24%|##        |\r",
        "Calculating the impulse response function for Rotated_cube.dat: 25%|##        |\r",
        "Calculating the impulse response function for Rotated_cube.dat: 26%|##        |\r",
        "Calculating the impulse response function for Rotated_cube.dat: 27%|##        |\r",
        "Calculating the impulse response function for Rotated_cube.dat: 28%|##        |\r",
        "Calculating the impulse response function for Rotated_cube.dat: 29%|##        |\r",
        "Calculating the impulse response function for Rotated_cube.dat: 30%|###       |\r",
        "Calculating the impulse response function for Rotated_cube.dat: 31%|###       |\r",
        "Calculating the impulse response function for Rotated_cube.dat: 32%|###       |"
       ]
      },
      {
       "output_type": "stream",
       "stream": "stderr",
       "text": [
        "\r",
        "Calculating the impulse response function for Rotated_cube.dat: 33%|###       |\r",
        "Calculating the impulse response function for Rotated_cube.dat: 34%|###       |\r",
        "Calculating the impulse response function for Rotated_cube.dat: 35%|###       |\r",
        "Calculating the impulse response function for Rotated_cube.dat: 36%|###       |\r",
        "Calculating the impulse response function for Rotated_cube.dat: 37%|###       |\r",
        "Calculating the impulse response function for Rotated_cube.dat: 38%|###       |\r",
        "Calculating the impulse response function for Rotated_cube.dat: 39%|###       |\r",
        "Calculating the impulse response function for Rotated_cube.dat: 40%|####      |\r",
        "Calculating the impulse response function for Rotated_cube.dat: 41%|####      |\r",
        "Calculating the impulse response function for Rotated_cube.dat: 42%|####      |\r",
        "Calculating the impulse response function for Rotated_cube.dat: 43%|####      |\r",
        "Calculating the impulse response function for Rotated_cube.dat: 44%|####      |"
       ]
      },
      {
       "output_type": "stream",
       "stream": "stderr",
       "text": [
        "\r",
        "Calculating the impulse response function for Rotated_cube.dat: 45%|####      |\r",
        "Calculating the impulse response function for Rotated_cube.dat: 46%|####      |\r",
        "Calculating the impulse response function for Rotated_cube.dat: 47%|####      |\r",
        "Calculating the impulse response function for Rotated_cube.dat: 48%|####      |\r",
        "Calculating the impulse response function for Rotated_cube.dat: 49%|####      |\r",
        "Calculating the impulse response function for Rotated_cube.dat: 50%|#####     |\r",
        "Calculating the impulse response function for Rotated_cube.dat: 51%|#####     |\r",
        "Calculating the impulse response function for Rotated_cube.dat: 52%|#####     |\r",
        "Calculating the impulse response function for Rotated_cube.dat: 53%|#####     |\r",
        "Calculating the impulse response function for Rotated_cube.dat: 54%|#####     |\r",
        "Calculating the impulse response function for Rotated_cube.dat: 55%|#####     |\r",
        "Calculating the impulse response function for Rotated_cube.dat: 56%|#####     |"
       ]
      },
      {
       "output_type": "stream",
       "stream": "stderr",
       "text": [
        "\r",
        "Calculating the impulse response function for Rotated_cube.dat: 57%|#####     |\r",
        "Calculating the impulse response function for Rotated_cube.dat: 58%|#####     |\r",
        "Calculating the impulse response function for Rotated_cube.dat: 59%|#####     |\r",
        "Calculating the impulse response function for Rotated_cube.dat: 60%|######    |\r",
        "Calculating the impulse response function for Rotated_cube.dat: 61%|######    |\r",
        "Calculating the impulse response function for Rotated_cube.dat: 62%|######    |\r",
        "Calculating the impulse response function for Rotated_cube.dat: 63%|######    |\r",
        "Calculating the impulse response function for Rotated_cube.dat: 64%|######    |\r",
        "Calculating the impulse response function for Rotated_cube.dat: 65%|######    |\r",
        "Calculating the impulse response function for Rotated_cube.dat: 66%|######    |\r",
        "Calculating the impulse response function for Rotated_cube.dat: 67%|######    |\r",
        "Calculating the impulse response function for Rotated_cube.dat: 68%|######    |"
       ]
      },
      {
       "output_type": "stream",
       "stream": "stderr",
       "text": [
        "\r",
        "Calculating the impulse response function for Rotated_cube.dat: 69%|######    |\r",
        "Calculating the impulse response function for Rotated_cube.dat: 70%|#######   |\r",
        "Calculating the impulse response function for Rotated_cube.dat: 71%|#######   |\r",
        "Calculating the impulse response function for Rotated_cube.dat: 72%|#######   |\r",
        "Calculating the impulse response function for Rotated_cube.dat: 73%|#######   |\r",
        "Calculating the impulse response function for Rotated_cube.dat: 74%|#######   |\r",
        "Calculating the impulse response function for Rotated_cube.dat: 75%|#######   |\r",
        "Calculating the impulse response function for Rotated_cube.dat: 76%|#######   |\r",
        "Calculating the impulse response function for Rotated_cube.dat: 77%|#######   |\r",
        "Calculating the impulse response function for Rotated_cube.dat: 78%|#######   |\r",
        "Calculating the impulse response function for Rotated_cube.dat: 79%|#######   |\r",
        "Calculating the impulse response function for Rotated_cube.dat: 80%|########  |"
       ]
      },
      {
       "output_type": "stream",
       "stream": "stderr",
       "text": [
        "\r",
        "Calculating the impulse response function for Rotated_cube.dat: 81%|########  |\r",
        "Calculating the impulse response function for Rotated_cube.dat: 82%|########  |\r",
        "Calculating the impulse response function for Rotated_cube.dat: 83%|########  |\r",
        "Calculating the impulse response function for Rotated_cube.dat: 84%|########  |\r",
        "Calculating the impulse response function for Rotated_cube.dat: 85%|########  |\r",
        "Calculating the impulse response function for Rotated_cube.dat: 86%|########  |\r",
        "Calculating the impulse response function for Rotated_cube.dat: 87%|########  |\r",
        "Calculating the impulse response function for Rotated_cube.dat: 88%|########  |\r",
        "Calculating the impulse response function for Rotated_cube.dat: 89%|########  |\r",
        "Calculating the impulse response function for Rotated_cube.dat: 90%|######### |"
       ]
      },
      {
       "output_type": "stream",
       "stream": "stderr",
       "text": [
        "\r",
        "Calculating the impulse response function for Rotated_cube.dat: 91%|######### |\r",
        "Calculating the impulse response function for Rotated_cube.dat: 92%|######### |\r",
        "Calculating the impulse response function for Rotated_cube.dat: 93%|######### |\r",
        "Calculating the impulse response function for Rotated_cube.dat: 94%|######### |\r",
        "Calculating the impulse response function for Rotated_cube.dat: 95%|######### |\r",
        "Calculating the impulse response function for Rotated_cube.dat: 96%|######### |\r",
        "Calculating the impulse response function for Rotated_cube.dat: 97%|######### |\r",
        "Calculating the impulse response function for Rotated_cube.dat: 98%|######### |\r",
        "Calculating the impulse response function for Rotated_cube.dat: 99%|######### |\r",
        "Calculating the impulse response function for Rotated_cube.dat:100%|##########|\n",
        "\r",
        "Calculating state space coefficients for Rotated_cube.dat:  0%|               |\r",
        "Calculating state space coefficients for Rotated_cube.dat:  1%|               |"
       ]
      },
      {
       "output_type": "stream",
       "stream": "stderr",
       "text": [
        "\r",
        "Calculating state space coefficients for Rotated_cube.dat:  2%|               |\r",
        "Calculating state space coefficients for Rotated_cube.dat:  4%|               |"
       ]
      },
      {
       "output_type": "stream",
       "stream": "stderr",
       "text": [
        "\r",
        "Calculating state space coefficients for Rotated_cube.dat:  5%|               |\r",
        "Calculating state space coefficients for Rotated_cube.dat:  6%|#              |"
       ]
      },
      {
       "output_type": "stream",
       "stream": "stderr",
       "text": [
        "\r",
        "Calculating state space coefficients for Rotated_cube.dat:  8%|#              |\r",
        "Calculating state space coefficients for Rotated_cube.dat:  9%|#              |\r",
        "Calculating state space coefficients for Rotated_cube.dat: 11%|#              |"
       ]
      },
      {
       "output_type": "stream",
       "stream": "stderr",
       "text": [
        "\r",
        "Calculating state space coefficients for Rotated_cube.dat: 12%|#              |\r",
        "Calculating state space coefficients for Rotated_cube.dat: 13%|##             |"
       ]
      },
      {
       "output_type": "stream",
       "stream": "stderr",
       "text": [
        "\r",
        "Calculating state space coefficients for Rotated_cube.dat: 15%|##             |\r",
        "Calculating state space coefficients for Rotated_cube.dat: 16%|##             |"
       ]
      },
      {
       "output_type": "stream",
       "stream": "stderr",
       "text": [
        "\r",
        "Calculating state space coefficients for Rotated_cube.dat: 18%|##             |\r",
        "Calculating state space coefficients for Rotated_cube.dat: 19%|##             |"
       ]
      },
      {
       "output_type": "stream",
       "stream": "stderr",
       "text": [
        "\r",
        "Calculating state space coefficients for Rotated_cube.dat: 20%|###            |\r",
        "Calculating state space coefficients for Rotated_cube.dat: 22%|###            |"
       ]
      },
      {
       "output_type": "stream",
       "stream": "stderr",
       "text": [
        "\r",
        "Calculating state space coefficients for Rotated_cube.dat: 23%|###            |\r",
        "Calculating state space coefficients for Rotated_cube.dat: 25%|###            |"
       ]
      },
      {
       "output_type": "stream",
       "stream": "stderr",
       "text": [
        "\r",
        "Calculating state space coefficients for Rotated_cube.dat: 26%|###            |\r",
        "Calculating state space coefficients for Rotated_cube.dat: 27%|####           |\r",
        "Calculating state space coefficients for Rotated_cube.dat: 29%|####           |"
       ]
      },
      {
       "output_type": "stream",
       "stream": "stderr",
       "text": [
        "\r",
        "Calculating state space coefficients for Rotated_cube.dat: 30%|####           |\r",
        "Calculating state space coefficients for Rotated_cube.dat: 31%|####           |"
       ]
      },
      {
       "output_type": "stream",
       "stream": "stderr",
       "text": [
        "\r",
        "Calculating state space coefficients for Rotated_cube.dat: 33%|#####          |\r",
        "Calculating state space coefficients for Rotated_cube.dat: 34%|#####          |"
       ]
      },
      {
       "output_type": "stream",
       "stream": "stderr",
       "text": [
        "\r",
        "Calculating state space coefficients for Rotated_cube.dat: 36%|#####          |\r",
        "Calculating state space coefficients for Rotated_cube.dat: 37%|#####          |"
       ]
      },
      {
       "output_type": "stream",
       "stream": "stderr",
       "text": [
        "\r",
        "Calculating state space coefficients for Rotated_cube.dat: 38%|#####          |\r",
        "Calculating state space coefficients for Rotated_cube.dat: 40%|######         |"
       ]
      },
      {
       "output_type": "stream",
       "stream": "stderr",
       "text": [
        "\r",
        "Calculating state space coefficients for Rotated_cube.dat: 41%|######         |\r",
        "Calculating state space coefficients for Rotated_cube.dat: 43%|######         |"
       ]
      },
      {
       "output_type": "stream",
       "stream": "stderr",
       "text": [
        "\r",
        "Calculating state space coefficients for Rotated_cube.dat: 44%|######         |\r",
        "Calculating state space coefficients for Rotated_cube.dat: 45%|######         |"
       ]
      },
      {
       "output_type": "stream",
       "stream": "stderr",
       "text": [
        "\r",
        "Calculating state space coefficients for Rotated_cube.dat: 47%|#######        |\r",
        "Calculating state space coefficients for Rotated_cube.dat: 48%|#######        |"
       ]
      },
      {
       "output_type": "stream",
       "stream": "stderr",
       "text": [
        "\r",
        "Calculating state space coefficients for Rotated_cube.dat: 50%|#######        |\r",
        "Calculating state space coefficients for Rotated_cube.dat: 51%|#######        |"
       ]
      },
      {
       "output_type": "stream",
       "stream": "stderr",
       "text": [
        "\r",
        "Calculating state space coefficients for Rotated_cube.dat: 52%|#######        |\r",
        "Calculating state space coefficients for Rotated_cube.dat: 54%|########       |"
       ]
      },
      {
       "output_type": "stream",
       "stream": "stderr",
       "text": [
        "\r",
        "Calculating state space coefficients for Rotated_cube.dat: 55%|########       |\r",
        "Calculating state space coefficients for Rotated_cube.dat: 56%|########       |"
       ]
      },
      {
       "output_type": "stream",
       "stream": "stderr",
       "text": [
        "\r",
        "Calculating state space coefficients for Rotated_cube.dat: 58%|########       |\r",
        "Calculating state space coefficients for Rotated_cube.dat: 59%|########       |"
       ]
      },
      {
       "output_type": "stream",
       "stream": "stderr",
       "text": [
        "\r",
        "Calculating state space coefficients for Rotated_cube.dat: 61%|#########      |\r",
        "Calculating state space coefficients for Rotated_cube.dat: 62%|#########      |"
       ]
      },
      {
       "output_type": "stream",
       "stream": "stderr",
       "text": [
        "\r",
        "Calculating state space coefficients for Rotated_cube.dat: 63%|#########      |\r",
        "Calculating state space coefficients for Rotated_cube.dat: 65%|#########      |"
       ]
      },
      {
       "output_type": "stream",
       "stream": "stderr",
       "text": [
        "\r",
        "Calculating state space coefficients for Rotated_cube.dat: 66%|##########     |\r",
        "Calculating state space coefficients for Rotated_cube.dat: 68%|##########     |"
       ]
      },
      {
       "output_type": "stream",
       "stream": "stderr",
       "text": [
        "\r",
        "Calculating state space coefficients for Rotated_cube.dat: 69%|##########     |\r",
        "Calculating state space coefficients for Rotated_cube.dat: 70%|##########     |"
       ]
      },
      {
       "output_type": "stream",
       "stream": "stderr",
       "text": [
        "\r",
        "Calculating state space coefficients for Rotated_cube.dat: 72%|##########     |\r",
        "Calculating state space coefficients for Rotated_cube.dat: 73%|###########    |"
       ]
      },
      {
       "output_type": "stream",
       "stream": "stderr",
       "text": [
        "\r",
        "Calculating state space coefficients for Rotated_cube.dat: 75%|###########    |\r",
        "Calculating state space coefficients for Rotated_cube.dat: 76%|###########    |\r",
        "Calculating state space coefficients for Rotated_cube.dat: 77%|###########    |"
       ]
      },
      {
       "output_type": "stream",
       "stream": "stderr",
       "text": [
        "\r",
        "Calculating state space coefficients for Rotated_cube.dat: 79%|###########    |\r",
        "Calculating state space coefficients for Rotated_cube.dat: 80%|############   |"
       ]
      },
      {
       "output_type": "stream",
       "stream": "stderr",
       "text": [
        "\r",
        "Calculating state space coefficients for Rotated_cube.dat: 81%|############   |\r",
        "Calculating state space coefficients for Rotated_cube.dat: 83%|############   |"
       ]
      },
      {
       "output_type": "stream",
       "stream": "stderr",
       "text": [
        "\r",
        "Calculating state space coefficients for Rotated_cube.dat: 84%|############   |\r",
        "Calculating state space coefficients for Rotated_cube.dat: 86%|############   |"
       ]
      },
      {
       "output_type": "stream",
       "stream": "stderr",
       "text": [
        "\r",
        "Calculating state space coefficients for Rotated_cube.dat: 87%|#############  |\r",
        "Calculating state space coefficients for Rotated_cube.dat: 88%|#############  |"
       ]
      },
      {
       "output_type": "stream",
       "stream": "stderr",
       "text": [
        "\r",
        "Calculating state space coefficients for Rotated_cube.dat: 90%|#############  |\r",
        "Calculating state space coefficients for Rotated_cube.dat: 91%|#############  |"
       ]
      },
      {
       "output_type": "stream",
       "stream": "stderr",
       "text": [
        "\r",
        "Calculating state space coefficients for Rotated_cube.dat: 93%|#############  |\r",
        "Calculating state space coefficients for Rotated_cube.dat: 94%|############## |"
       ]
      },
      {
       "output_type": "stream",
       "stream": "stderr",
       "text": [
        "\r",
        "Calculating state space coefficients for Rotated_cube.dat: 95%|############## |\r",
        "Calculating state space coefficients for Rotated_cube.dat: 97%|############## |"
       ]
      },
      {
       "output_type": "stream",
       "stream": "stderr",
       "text": [
        "\r",
        "Calculating state space coefficients for Rotated_cube.dat: 98%|############## |\r",
        "Calculating state space coefficients for Rotated_cube.dat:100%|###############|"
       ]
      },
      {
       "output_type": "stream",
       "stream": "stderr",
       "text": [
        "\r",
        "Calculating state space coefficients for Rotated_cube.dat:100%|###############|\n"
       ]
      }
     ],
     "prompt_number": 6
    },
    {
     "cell_type": "markdown",
     "metadata": {},
     "source": [
      "### Plot the surge and heave components of added mass and radiation damping for body 0"
     ]
    },
    {
     "cell_type": "code",
     "collapsed": false,
     "input": [
      "comps_to_plot = [[0,0],[2,2]]\n",
      "nemoh_data.data[0].plot_am_rd(comps_to_plot)"
     ],
     "language": "python",
     "metadata": {},
     "outputs": [
      {
       "metadata": {},
       "output_type": "display_data",
       "png": "[encoded data removed]",
       "text": [
        "<matplotlib.figure.Figure at 0x106cd9490>"
       ]
      }
     ],
     "prompt_number": 7
    },
    {
     "cell_type": "markdown",
     "metadata": {},
     "source": [
      "### Write the data to the bemio data file format for use with WEC-Sim"
     ]
    },
    {
     "cell_type": "code",
     "collapsed": false,
     "input": [
      "bem.write_hdf5(data=nemoh_data)"
     ],
     "language": "python",
     "metadata": {},
     "outputs": [
      {
       "output_type": "stream",
       "stream": "stdout",
       "text": [
        "Wrote HDF5 data to /Users/mlawson/Applications/bemio/tutorials/nemoh/data/two_body.h5\n"
       ]
      }
     ],
     "prompt_number": 8
    }
   ],
   "metadata": {}
  }
 ]
}